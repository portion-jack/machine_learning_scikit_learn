{
 "cells": [
  {
   "cell_type": "code",
   "execution_count": null,
   "metadata": {},
   "outputs": [],
   "source": [
    "\"\"\"\n",
    "1. general K-FOLD \n",
    "-> for general\n",
    "\n",
    "2. Stratified K-FOLD \n",
    "-> for ratio prob\n",
    "\n",
    "3. repeated K-FOLD\n",
    "-> for lack of data\n",
    "\n",
    "4. repeated stratified K-FOLD\n",
    "-> for lack of data & ratio prob\n",
    "\"\"\"\n",
    "\n",
    "#1.\n",
    "from sklearn.model_selection import KFold\n",
    "#2.\n",
    "from sklearn.model_selection import StratifiedKFold\n",
    "#3.\n",
    "from sklearn.model_selection import RepeatedKFold\n",
    "#4. \n",
    "from sklearn.model_selection import RepeatedStratifiedKFold"
   ]
  }
 ],
 "metadata": {
  "kernelspec": {
   "display_name": "Python 3.10.6 ('_main_')",
   "language": "python",
   "name": "python3"
  },
  "language_info": {
   "name": "python",
   "version": "3.10.6"
  },
  "orig_nbformat": 4,
  "vscode": {
   "interpreter": {
    "hash": "f9ca386e56d49278b6ea12f82eaf9b61b560a06508ab91168865c26e31a97cc6"
   }
  }
 },
 "nbformat": 4,
 "nbformat_minor": 2
}
